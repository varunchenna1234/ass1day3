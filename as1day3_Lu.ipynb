{
  "nbformat": 4,
  "nbformat_minor": 0,
  "metadata": {
    "colab": {
      "name": "as1day3 Lu.ipynb",
      "provenance": [],
      "authorship_tag": "ABX9TyOG9raDCZxDMTlQZnBYcJpC",
      "include_colab_link": true
    },
    "kernelspec": {
      "name": "python3",
      "display_name": "Python 3"
    }
  },
  "cells": [
    {
      "cell_type": "markdown",
      "metadata": {
        "id": "view-in-github",
        "colab_type": "text"
      },
      "source": [
        "<a href=\"https://colab.research.google.com/github/varunchenna1234/ass1day3/blob/master/as1day3_Lu.ipynb\" target=\"_parent\"><img src=\"https://colab.research.google.com/assets/colab-badge.svg\" alt=\"Open In Colab\"/></a>"
      ]
    },
    {
      "cell_type": "code",
      "metadata": {
        "id": "5y6F-vrgcsxB",
        "colab_type": "code",
        "colab": {
          "base_uri": "https://localhost:8080/",
          "height": 51
        },
        "outputId": "765b3296-8582-4937-fd1f-d61b9d682bb8"
      },
      "source": [
        "alt=int(input(\"Enter the Altitude:\"))\n",
        "if alt<=1000:\n",
        "    print(\"Safe to land\")\n",
        "elif alt>=1000 and alt<=5000:\n",
        "    print(\"Bring down to 1000\")\n",
        "else:\n",
        "    print(\"Turn Around\")"
      ],
      "execution_count": 5,
      "outputs": [
        {
          "output_type": "stream",
          "text": [
            "Enter the Altitude:7500\n",
            "Turn Around\n"
          ],
          "name": "stdout"
        }
      ]
    },
    {
      "cell_type": "code",
      "metadata": {
        "id": "qET80Q8Vcwv0",
        "colab_type": "code",
        "colab": {}
      },
      "source": [
        ""
      ],
      "execution_count": null,
      "outputs": []
    }
  ]
}